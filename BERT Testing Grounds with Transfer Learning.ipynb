{
 "cells": [
  {
   "cell_type": "code",
   "execution_count": 1,
   "id": "7c32ea44",
   "metadata": {},
   "outputs": [
    {
     "name": "stderr",
     "output_type": "stream",
     "text": [
      "C:\\Users\\Usrer\\AppData\\Roaming\\Python\\Python310\\site-packages\\tensorflow_addons\\utils\\tfa_eol_msg.py:23: UserWarning: \n",
      "\n",
      "TensorFlow Addons (TFA) has ended development and introduction of new features.\n",
      "TFA has entered a minimal maintenance and release mode until a planned end of life in May 2024.\n",
      "Please modify downstream libraries to take dependencies from other repositories in our TensorFlow community (e.g. Keras, Keras-CV, and Keras-NLP). \n",
      "\n",
      "For more information see: https://github.com/tensorflow/addons/issues/2807 \n",
      "\n",
      "  warnings.warn(\n",
      "C:\\Users\\Usrer\\AppData\\Local\\Programs\\Python\\Python310\\lib\\site-packages\\torchvision\\io\\image.py:13: UserWarning: Failed to load image Python extension: 'Could not find module 'C:\\Users\\Usrer\\AppData\\Local\\Programs\\Python\\Python310\\Lib\\site-packages\\torchvision\\image.pyd' (or one of its dependencies). Try using the full path with constructor syntax.'If you don't plan on using image functionality from `torchvision.io`, you can ignore this warning. Otherwise, there might be something wrong with your environment. Did you have `libjpeg` or `libpng` installed before building `torchvision` from source?\n",
      "  warn(\n"
     ]
    }
   ],
   "source": [
    "import numpy as np\n",
    "import pandas as pd\n",
    "import matplotlib.pyplot as plt\n",
    "import seaborn as sns\n",
    "\n",
    "import tensorflow as tf\n",
    "import tensorflow_hub as hub\n",
    "import tensorflow_text as text\n",
    "from official.nlp import optimization\n",
    "import math\n",
    "\n",
    "from simpletransformers.classification import ClassificationModel, ClassificationArgs\n",
    "from sklearn.model_selection import train_test_split\n",
    "\n",
    "sns.set_style(\"whitegrid\")"
   ]
  },
  {
   "cell_type": "markdown",
   "id": "a7cab5ff",
   "metadata": {},
   "source": [
    "# Simple Pre-processing\n",
    "1. Removes Stopwords\n",
    "2. Convert all to lowercases\n",
    "3. Removes Punctuations\n",
    "4. Removes hyperlink\n",
    "5. Removes special characters"
   ]
  },
  {
   "cell_type": "code",
   "execution_count": 3,
   "id": "1576bf48",
   "metadata": {},
   "outputs": [],
   "source": [
    "from gensim.parsing.preprocessing import remove_stopwords\n",
    "import string\n",
    "import re"
   ]
  },
  {
   "cell_type": "code",
   "execution_count": 15,
   "id": "964fe400",
   "metadata": {},
   "outputs": [],
   "source": [
    "def remove_punctuation(text):\n",
    "    return text.translate(str.maketrans('', '', string.punctuation))\n",
    "\n",
    "def lower_case(text):\n",
    "    return text.lower()\n",
    "\n",
    "def combine_features(keyword, text):\n",
    "    if keyword is np.nan:\n",
    "        keyword = \"\"\n",
    "    \n",
    "    return text + keyword\n",
    "\n",
    "combine_features = np.vectorize(combine_features)\n",
    "\n",
    "def remove_url(text):\n",
    "    text = re.sub(r\"https?:\\/\\/t.co\\/[A-Za-z0-9]+\", \"\", text)\n",
    "    \n",
    "    return text\n",
    "\n",
    "def remove_special_characters(text):\n",
    "    text = re.sub(r\"[^A-Za-z0-9\\s]+\", \"\", text)\n",
    "    \n",
    "    return text\n"
   ]
  },
  {
   "cell_type": "code",
   "execution_count": 18,
   "id": "6226beef",
   "metadata": {},
   "outputs": [],
   "source": [
    "train_df = pd.read_csv(\"dataset\\\\train.csv\")\n",
    "test_df = pd.read_csv(\"dataset\\\\test.csv\")"
   ]
  },
  {
   "cell_type": "code",
   "execution_count": 19,
   "id": "c915ac4d",
   "metadata": {},
   "outputs": [],
   "source": [
    "train_df['text'] = combine_features(train_df['keyword'], train_df['text'])\n",
    "train_df['text'] = train_df['text'].apply(remove_stopwords)\n",
    "train_df['text'] = train_df['text'].apply(remove_punctuation)\n",
    "train_df['text'] = train_df['text'].apply(lower_case)\n",
    "train_df['text'] = train_df['text'].apply(remove_url)\n",
    "train_df['text'] = train_df['text'].apply(remove_special_characters)\n",
    "\n",
    "test_df['text'] = combine_features(test_df['keyword'], test_df['text'])\n",
    "test_df['text'] = test_df['text'].apply(remove_stopwords)\n",
    "test_df['text'] = test_df['text'].apply(remove_punctuation)\n",
    "test_df['text'] = test_df['text'].apply(lower_case)\n",
    "test_df['text'] = test_df['text'].apply(remove_url)\n",
    "test_df['text'] = test_df['text'].apply(remove_special_characters)"
   ]
  },
  {
   "cell_type": "code",
   "execution_count": 20,
   "id": "4a4e39ad",
   "metadata": {},
   "outputs": [],
   "source": [
    "train_data = train_df[['text', 'target']].copy()\n",
    "\n",
    "X_train, X_test, y_train, y_test = train_test_split(train_data['text'], train_data['target'], test_size=0.2, random_state=42)"
   ]
  },
  {
   "cell_type": "markdown",
   "id": "91601661",
   "metadata": {},
   "source": [
    "# Approach 1: Using simpletransformers' BERT + Classification Model to predict"
   ]
  },
  {
   "cell_type": "code",
   "execution_count": 5,
   "id": "9949c5b0",
   "metadata": {},
   "outputs": [
    {
     "name": "stderr",
     "output_type": "stream",
     "text": [
      "Some weights of the model checkpoint at bert-base-uncased were not used when initializing BertForSequenceClassification: ['cls.predictions.transform.dense.bias', 'cls.predictions.transform.LayerNorm.bias', 'cls.seq_relationship.bias', 'cls.seq_relationship.weight', 'cls.predictions.bias', 'cls.predictions.transform.LayerNorm.weight', 'cls.predictions.transform.dense.weight']\n",
      "- This IS expected if you are initializing BertForSequenceClassification from the checkpoint of a model trained on another task or with another architecture (e.g. initializing a BertForSequenceClassification model from a BertForPreTraining model).\n",
      "- This IS NOT expected if you are initializing BertForSequenceClassification from the checkpoint of a model that you expect to be exactly identical (initializing a BertForSequenceClassification model from a BertForSequenceClassification model).\n",
      "Some weights of BertForSequenceClassification were not initialized from the model checkpoint at bert-base-uncased and are newly initialized: ['classifier.bias', 'classifier.weight']\n",
      "You should probably TRAIN this model on a down-stream task to be able to use it for predictions and inference.\n",
      "C:\\Users\\Usrer\\AppData\\Local\\Programs\\Python\\Python310\\lib\\site-packages\\simpletransformers\\classification\\classification_model.py:612: UserWarning: Dataframe headers not specified. Falling back to using column 0 as text and column 1 as labels.\n",
      "  warnings.warn(\n"
     ]
    },
    {
     "data": {
      "application/vnd.jupyter.widget-view+json": {
       "model_id": "78c68bad88934207aec109605f6e56c0",
       "version_major": 2,
       "version_minor": 0
      },
      "text/plain": [
       "  0%|          | 0/6090 [00:00<?, ?it/s]"
      ]
     },
     "metadata": {},
     "output_type": "display_data"
    },
    {
     "data": {
      "application/vnd.jupyter.widget-view+json": {
       "model_id": "4a97393f875b4480aecd39f137e86cf4",
       "version_major": 2,
       "version_minor": 0
      },
      "text/plain": [
       "Epoch:   0%|          | 0/1 [00:00<?, ?it/s]"
      ]
     },
     "metadata": {},
     "output_type": "display_data"
    },
    {
     "data": {
      "application/vnd.jupyter.widget-view+json": {
       "model_id": "0d3c5fbbaf144cef9298046a31b3454d",
       "version_major": 2,
       "version_minor": 0
      },
      "text/plain": [
       "Running Epoch 0 of 1:   0%|          | 0/762 [00:00<?, ?it/s]"
      ]
     },
     "metadata": {},
     "output_type": "display_data"
    },
    {
     "name": "stderr",
     "output_type": "stream",
     "text": [
      "C:\\Users\\Usrer\\AppData\\Local\\Programs\\Python\\Python310\\lib\\site-packages\\simpletransformers\\classification\\classification_model.py:1454: UserWarning: Dataframe headers not specified. Falling back to using column 0 as text and column 1 as labels.\n",
      "  warnings.warn(\n"
     ]
    },
    {
     "data": {
      "application/vnd.jupyter.widget-view+json": {
       "model_id": "b028423dc6344a59bc3ae37850dcce43",
       "version_major": 2,
       "version_minor": 0
      },
      "text/plain": [
       "  0%|          | 0/1523 [00:00<?, ?it/s]"
      ]
     },
     "metadata": {},
     "output_type": "display_data"
    },
    {
     "data": {
      "application/vnd.jupyter.widget-view+json": {
       "model_id": "60ca3b2540f041f994fd95f50fea8e94",
       "version_major": 2,
       "version_minor": 0
      },
      "text/plain": [
       "Running Evaluation:   0%|          | 0/191 [00:00<?, ?it/s]"
      ]
     },
     "metadata": {},
     "output_type": "display_data"
    }
   ],
   "source": [
    "model_args = ClassificationArgs(num_train_epochs=1)\n",
    "\n",
    "model = ClassificationModel(\n",
    "    \"bert\",\n",
    "    \"bert-base-uncased\",\n",
    "    args=model_args,\n",
    "    use_cuda=False\n",
    ")\n",
    "\n",
    "model.train_model(pd.merge(X_train, y_train, right_index=True, left_index=True))\n",
    "\n",
    "result, model_outputs, wrong_predictions = model.eval_model(pd.merge(X_test, y_test, right_index=True, left_index=True))"
   ]
  },
  {
   "cell_type": "code",
   "execution_count": 37,
   "id": "088181ca",
   "metadata": {},
   "outputs": [
    {
     "data": {
      "text/plain": [
       "{'mcc': 0.5491845405525937,\n",
       " 'tp': 475,\n",
       " 'tn': 713,\n",
       " 'fp': 161,\n",
       " 'fn': 174,\n",
       " 'auroc': 0.8552287800629731,\n",
       " 'auprc': 0.8487481102263537,\n",
       " 'eval_loss': 0.4651073358992007}"
      ]
     },
     "execution_count": 37,
     "metadata": {},
     "output_type": "execute_result"
    }
   ],
   "source": [
    "result"
   ]
  },
  {
   "cell_type": "code",
   "execution_count": 60,
   "id": "2cc06f28",
   "metadata": {},
   "outputs": [
    {
     "data": {
      "application/vnd.jupyter.widget-view+json": {
       "model_id": "7f4129b9f85f4fdda390977f33d5a690",
       "version_major": 2,
       "version_minor": 0
      },
      "text/plain": [
       "  0%|          | 0/3263 [00:00<?, ?it/s]"
      ]
     },
     "metadata": {},
     "output_type": "display_data"
    },
    {
     "data": {
      "application/vnd.jupyter.widget-view+json": {
       "model_id": "851a15a5e2b2497e8b37e62709eeee82",
       "version_major": 2,
       "version_minor": 0
      },
      "text/plain": [
       "  0%|          | 0/408 [00:00<?, ?it/s]"
      ]
     },
     "metadata": {},
     "output_type": "display_data"
    }
   ],
   "source": [
    "ids = test_df[['id']]\n",
    "pred = pd.Series(model.predict(test_df['text'].tolist())[0])\n",
    "submission = pd.concat([ids, pred], axis=1).rename(columns={0: 'target'})\n",
    "submission.to_csv('submission.csv', index=False)"
   ]
  },
  {
   "cell_type": "markdown",
   "id": "e731ed8b",
   "metadata": {},
   "source": [
    "# Approach 2: BERT from Tensorflow Hub (Best Score: 0.81274)"
   ]
  },
  {
   "cell_type": "code",
   "execution_count": 94,
   "id": "e081e374",
   "metadata": {},
   "outputs": [],
   "source": [
    "preprocessor = \"https://tfhub.dev/tensorflow/bert_en_uncased_preprocess/3\"\n",
    "encoder = \"https://tfhub.dev/tensorflow/bert_en_uncased_L-12_H-768_A-12/4\"\n",
    "\n",
    "bert_preprocessor_model = hub.KerasLayer(preprocessor)\n",
    "bert_model = hub.KerasLayer(encoder)"
   ]
  },
  {
   "cell_type": "code",
   "execution_count": 93,
   "id": "4801a43b",
   "metadata": {},
   "outputs": [
    {
     "data": {
      "text/plain": [
       "{'input_type_ids': <tf.Tensor: shape=(1, 128), dtype=int32, numpy=\n",
       " array([[0, 0, 0, 0, 0, 0, 0, 0, 0, 0, 0, 0, 0, 0, 0, 0, 0, 0, 0, 0, 0, 0,\n",
       "         0, 0, 0, 0, 0, 0, 0, 0, 0, 0, 0, 0, 0, 0, 0, 0, 0, 0, 0, 0, 0, 0,\n",
       "         0, 0, 0, 0, 0, 0, 0, 0, 0, 0, 0, 0, 0, 0, 0, 0, 0, 0, 0, 0, 0, 0,\n",
       "         0, 0, 0, 0, 0, 0, 0, 0, 0, 0, 0, 0, 0, 0, 0, 0, 0, 0, 0, 0, 0, 0,\n",
       "         0, 0, 0, 0, 0, 0, 0, 0, 0, 0, 0, 0, 0, 0, 0, 0, 0, 0, 0, 0, 0, 0,\n",
       "         0, 0, 0, 0, 0, 0, 0, 0, 0, 0, 0, 0, 0, 0, 0, 0, 0, 0]])>,\n",
       " 'input_word_ids': <tf.Tensor: shape=(1, 128), dtype=int32, numpy=\n",
       " array([[ 101, 2023, 2003, 2107, 2019, 6429, 3185,  999,  999,  999,  999,\n",
       "          999,  102,    0,    0,    0,    0,    0,    0,    0,    0,    0,\n",
       "            0,    0,    0,    0,    0,    0,    0,    0,    0,    0,    0,\n",
       "            0,    0,    0,    0,    0,    0,    0,    0,    0,    0,    0,\n",
       "            0,    0,    0,    0,    0,    0,    0,    0,    0,    0,    0,\n",
       "            0,    0,    0,    0,    0,    0,    0,    0,    0,    0,    0,\n",
       "            0,    0,    0,    0,    0,    0,    0,    0,    0,    0,    0,\n",
       "            0,    0,    0,    0,    0,    0,    0,    0,    0,    0,    0,\n",
       "            0,    0,    0,    0,    0,    0,    0,    0,    0,    0,    0,\n",
       "            0,    0,    0,    0,    0,    0,    0,    0,    0,    0,    0,\n",
       "            0,    0,    0,    0,    0,    0,    0,    0,    0,    0,    0,\n",
       "            0,    0,    0,    0,    0,    0,    0]])>,\n",
       " 'input_mask': <tf.Tensor: shape=(1, 128), dtype=int32, numpy=\n",
       " array([[1, 1, 1, 1, 1, 1, 1, 1, 1, 1, 1, 1, 1, 0, 0, 0, 0, 0, 0, 0, 0, 0,\n",
       "         0, 0, 0, 0, 0, 0, 0, 0, 0, 0, 0, 0, 0, 0, 0, 0, 0, 0, 0, 0, 0, 0,\n",
       "         0, 0, 0, 0, 0, 0, 0, 0, 0, 0, 0, 0, 0, 0, 0, 0, 0, 0, 0, 0, 0, 0,\n",
       "         0, 0, 0, 0, 0, 0, 0, 0, 0, 0, 0, 0, 0, 0, 0, 0, 0, 0, 0, 0, 0, 0,\n",
       "         0, 0, 0, 0, 0, 0, 0, 0, 0, 0, 0, 0, 0, 0, 0, 0, 0, 0, 0, 0, 0, 0,\n",
       "         0, 0, 0, 0, 0, 0, 0, 0, 0, 0, 0, 0, 0, 0, 0, 0, 0, 0]])>}"
      ]
     },
     "execution_count": 93,
     "metadata": {},
     "output_type": "execute_result"
    }
   ],
   "source": [
    "### Below is the preprocessor's output\n",
    "# input ids\n",
    "# word ids\n",
    "# input mask\n",
    "bert_preprocessor_model([\"this is such an amazing movie!!!!!\"])"
   ]
  },
  {
   "cell_type": "markdown",
   "id": "81003691",
   "metadata": {},
   "source": [
    "Source: https://www.tensorflow.org/text/tutorials/classify_text_with_bert\n",
    "\n",
    "The BERT models return a map with 3 important keys: `pooled_output`, `sequence_output`, `encoder_outputs`:\n",
    "\n",
    "- `pooled_output` represents each input sequence as a whole. The shape is [`batch_size`, `H`]. You can think of this as an embedding for the entire movie review.\n",
    "- `sequence_output` represents each input token in the context. The shape is [`batch_size`, `seq_length`, `H`]. You can think of this as a contextual embedding for every token in the movie review.\n",
    "- `encoder_outputs` are the intermediate activations of the L Transformer blocks. outputs[\"encoder_outputs\"][i] is a Tensor of shape [`batch_size`, `seq_length`, `1024`] with the outputs of the i-th Transformer block, `for 0 <= i < L`. The last value of the list is equal to `sequence_output`.\n",
    "\n",
    "For the fine-tuning you are going to use the pooled_output array."
   ]
  },
  {
   "cell_type": "markdown",
   "id": "fd9821b5",
   "metadata": {},
   "source": [
    "## BERT Development"
   ]
  },
  {
   "cell_type": "code",
   "execution_count": 36,
   "id": "f689f7c5",
   "metadata": {},
   "outputs": [],
   "source": [
    "train_ds = tf.data.Dataset.from_tensor_slices((X_train.values, y_train.values)).batch(8)\n",
    "\n",
    "test_ds = tf.data.Dataset.from_tensor_slices((X_test.values, y_test.values)).batch(8)"
   ]
  },
  {
   "cell_type": "code",
   "execution_count": 54,
   "id": "00786f04",
   "metadata": {},
   "outputs": [],
   "source": [
    "class BERTClassfier:\n",
    "    def __init__(self):\n",
    "        \n",
    "        # random seed for reproducibility\n",
    "        tf.random.set_seed(42)\n",
    "        \n",
    "        # tensorflow hub urls \n",
    "        PREPROCESSOR = \"https://tfhub.dev/tensorflow/bert_en_uncased_preprocess/3\"\n",
    "        ENCODER = \"https://tfhub.dev/tensorflow/bert_en_uncased_L-12_H-768_A-12/4\"\n",
    "        \n",
    "        # model development\n",
    "        input_layer = tf.keras.layers.Input(shape=(), dtype=tf.string, name=\"input_layer\")\n",
    "        preprocessing_layer = hub.KerasLayer(PREPROCESSOR, name=\"preprocessing_layer\")\n",
    "        encoder_inputs = preprocessing_layer(input_layer)\n",
    "        encoder = hub.KerasLayer(ENCODER, trainable=True, name='BERT_encoder')\n",
    "        outputs = encoder(encoder_inputs)\n",
    "        \n",
    "        # fine-tuning (output layer, basically defining classifier layer)\n",
    "        net = outputs['pooled_output']\n",
    "        net = tf.keras.layers.Dropout(0.3)(net)\n",
    "        net = tf.keras.layers.Dense(1, activation=None, name=\"Classifier\")(net)\n",
    "        \n",
    "        self.model = tf.keras.Model(input_layer, net)\n",
    "        \n",
    "        # model loss function\n",
    "        loss = tf.keras.losses.BinaryCrossentropy(from_logits=True) # binary classification\n",
    "        metrics = tf.metrics.BinaryAccuracy()\n",
    "        \n",
    "        # optimizer\n",
    "        self.epochs = 5 # hardcoded as 5\n",
    "        steps_per_epoch = tf.data.experimental.cardinality(train_ds).numpy()\n",
    "        num_train_steps = steps_per_epoch * self.epochs\n",
    "        num_warmup_steps = int(0.1 * num_train_steps)\n",
    "        \n",
    "        initial_learning_rate = 3e-5\n",
    "        optimizer = optimization.create_optimizer(\n",
    "            init_lr=initial_learning_rate,\n",
    "            num_train_steps=num_train_steps,\n",
    "            num_warmup_steps=num_warmup_steps,\n",
    "            optimizer_type=\"adamw\"\n",
    "        )\n",
    "        \n",
    "        self.model.compile(\n",
    "            loss=loss,\n",
    "            optimizer=optimizer,\n",
    "            metrics=metrics\n",
    "        )\n",
    "        \n",
    "    def train(self, train_ds, test_ds):\n",
    "        earlystop_callback = tf.keras.callbacks.EarlyStopping(\n",
    "            monitor=\"val_loss\",\n",
    "            patience=2\n",
    "        )\n",
    "        \n",
    "        self.history = self.model.fit(\n",
    "            x=train_ds,\n",
    "            validation_data=test_ds,\n",
    "            epochs=self.epochs,\n",
    "            callbacks=[earlystop_callback]\n",
    "        )\n",
    "        \n",
    "        return self.history\n",
    "    \n",
    "    def get_model(self):\n",
    "        return self.model\n",
    "    \n",
    "    def evaluate(self, test_ds):\n",
    "        loss, accuracy = self.model.evaluate(test_ds)\n",
    "        \n",
    "        print(f'Loss: {loss}')\n",
    "        print(f'Accuracy: {accuracy}')\n",
    "        \n",
    "    def iteration_plot(self):\n",
    "        history = self.history.history\n",
    "        \n",
    "        acc = history['binary_accuracy']\n",
    "        val_acc = history['val_binary_accuracy']\n",
    "        loss = history['loss']\n",
    "        val_loss = history['val_loss']\n",
    "        \n",
    "        epochs = range(1, len(acc) + 1)\n",
    "        fig = plt.figure(figsize=(10, 6))\n",
    "        fig.tight_layout()\n",
    "        \n",
    "        plt.subplot(2, 1, 1)\n",
    "        # r is for \"solid red line\"\n",
    "        plt.plot(epochs, loss, 'r', label='Training loss')\n",
    "        # b is for \"solid blue line\"\n",
    "        plt.plot(epochs, val_loss, 'b', label='Validation loss')\n",
    "        plt.title('Training and validation loss')\n",
    "        # plt.xlabel('Epochs')\n",
    "        plt.ylabel('Loss')\n",
    "        plt.legend()\n",
    "\n",
    "        plt.subplot(2, 1, 2)\n",
    "        plt.plot(epochs, acc, 'r', label='Training acc')\n",
    "        plt.plot(epochs, val_acc, 'b', label='Validation acc')\n",
    "        plt.title('Training and validation accuracy')\n",
    "        plt.xlabel('Epochs')\n",
    "        plt.ylabel('Accuracy')\n",
    "        plt.legend(loc='lower right')\n",
    "    \n",
    "    def save_model(self):\n",
    "        self.model.save(\"./\", include_optimizer=False)\n",
    "        \n",
    "    def predict(self, text):\n",
    "        pred = tf.sigmoid(self.model.predict(text)).numpy()\n",
    "        pred = np.where(pred.reshape(-1) > 0.5, 1, 0)\n",
    "        \n",
    "        return pd.Series(pred)\n",
    "        "
   ]
  },
  {
   "cell_type": "code",
   "execution_count": 55,
   "id": "a3722678",
   "metadata": {
    "scrolled": false
   },
   "outputs": [
    {
     "name": "stdout",
     "output_type": "stream",
     "text": [
      "Epoch 1/5\n",
      "762/762 [==============================] - 154s 189ms/step - loss: 0.5765 - binary_accuracy: 0.7371 - val_loss: 0.3999 - val_binary_accuracy: 0.8234\n",
      "Epoch 2/5\n",
      "762/762 [==============================] - 144s 189ms/step - loss: 0.4224 - binary_accuracy: 0.8509 - val_loss: 0.6186 - val_binary_accuracy: 0.8253\n",
      "Epoch 3/5\n",
      "762/762 [==============================] - 147s 192ms/step - loss: 0.3219 - binary_accuracy: 0.9105 - val_loss: 0.7597 - val_binary_accuracy: 0.8319\n"
     ]
    }
   ],
   "source": [
    "bert = BERTClassfier()\n",
    "history = bert.train(train_ds, test_ds)"
   ]
  },
  {
   "cell_type": "code",
   "execution_count": 56,
   "id": "dd7fca5e",
   "metadata": {},
   "outputs": [
    {
     "name": "stdout",
     "output_type": "stream",
     "text": [
      "191/191 [==============================] - 11s 55ms/step - loss: 0.7597 - binary_accuracy: 0.8319\n",
      "Loss: 0.7596895098686218\n",
      "Accuracy: 0.8319107294082642\n"
     ]
    }
   ],
   "source": [
    "bert.evaluate(test_ds) # batch = 8 (without activation on the output layer)"
   ]
  },
  {
   "cell_type": "code",
   "execution_count": 57,
   "id": "6410874f",
   "metadata": {},
   "outputs": [
    {
     "data": {
      "image/png": "[encoded data removed]",
      "text/plain": [
       "<Figure size 1000x600 with 2 Axes>"
      ]
     },
     "metadata": {},
     "output_type": "display_data"
    }
   ],
   "source": [
    "bert.iteration_plot()"
   ]
  },
  {
   "cell_type": "code",
   "execution_count": 58,
   "id": "9681b099",
   "metadata": {},
   "outputs": [
    {
     "name": "stdout",
     "output_type": "stream",
     "text": [
      "102/102 [==============================] - 20s 188ms/step\n"
     ]
    }
   ],
   "source": [
    "ids = test_df[['id']]\n",
    "pred = bert.predict(test_df['text'])\n",
    "\n",
    "submission = pd.concat([ids, pred], axis=1).rename(columns={0: 'target'})\n",
    "submission.to_csv(\"submission.csv\", index=False)"
   ]
  },
  {
   "cell_type": "code",
   "execution_count": null,
   "id": "437fa8ef",
   "metadata": {},
   "outputs": [],
   "source": []
  }
 ],
 "metadata": {
  "kernelspec": {
   "display_name": "Python 3 (ipykernel)",
   "language": "python",
   "name": "python3"
  },
  "language_info": {
   "codemirror_mode": {
    "name": "ipython",
    "version": 3
   },
   "file_extension": ".py",
   "mimetype": "text/x-python",
   "name": "python",
   "nbconvert_exporter": "python",
   "pygments_lexer": "ipython3",
   "version": "3.10.9"
  }
 },
 "nbformat": 4,
 "nbformat_minor": 5
}
